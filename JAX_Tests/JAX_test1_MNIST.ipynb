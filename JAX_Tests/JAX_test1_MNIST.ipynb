{
  "nbformat": 4,
  "nbformat_minor": 0,
  "metadata": {
    "colab": {
      "provenance": [],
      "authorship_tag": "ABX9TyMOR6rLbLPvp/Eu+B+KZ70I",
      "include_colab_link": true
    },
    "kernelspec": {
      "name": "python3",
      "display_name": "Python 3"
    },
    "language_info": {
      "name": "python"
    },
    "accelerator": "GPU",
    "gpuClass": "standard"
  },
  "cells": [
    {
      "cell_type": "markdown",
      "metadata": {
        "id": "view-in-github",
        "colab_type": "text"
      },
      "source": [
        "<a href=\"https://colab.research.google.com/github/InzOprog/ABB/blob/main/JAX_Tests/JAX_test1_MNIST.ipynb\" target=\"_parent\"><img src=\"https://colab.research.google.com/assets/colab-badge.svg\" alt=\"Open In Colab\"/></a>"
      ]
    },
    {
      "cell_type": "code",
      "execution_count": 51,
      "metadata": {
        "id": "r959B36OHMUM"
      },
      "outputs": [],
      "source": [
        "#math\n",
        "import numpy as np\n",
        "import jax.numpy as jnp\n",
        "from jax.scipy.special import logsumexp\n",
        "import jax\n",
        "from jax import jit, vmap, pmap, grad, value_and_grad\n",
        "\n",
        "#data\n",
        "from torchvision.datasets import MNIST\n",
        "from torch.utils.data import DataLoader\n",
        "\n",
        "#utils\n",
        "import matplotlib.pyplot as plt\n",
        "import itertools as it"
      ]
    },
    {
      "cell_type": "code",
      "source": [
        "seed = 0\n",
        "mnist_img_size = (28, 28)\n",
        "\n",
        "def init_MLP(layer_widths, parent_key, scale=0.01):\n",
        "\n",
        "    params = []\n",
        "    keys = jax.random.split(parent_key, num=len(layer_widths)-1)\n",
        "\n",
        "    for in_width, out_width, key in zip(\n",
        "        layer_widths[:-1], \n",
        "        layer_widths[1:], \n",
        "        keys\n",
        "        ):\n",
        "        weight_key, bias_key = jax.random.split(key)\n",
        "        params.append([\n",
        "                       scale*jax.random.normal(weight_key, \n",
        "                                               shape=(out_width, in_width)),\n",
        "                       scale*jax.random.normal(bias_key, \n",
        "                                               shape=(out_width,))\n",
        "                       ]\n",
        "        )\n",
        "\n",
        "    return params\n",
        "\n",
        "\"\"\"\n",
        "test 1)\n",
        "sprawdzenie poprawności generowana warstw o wielkości [784, 512, 256, 10]\n",
        "gdzie 784 to warstwa wejścia (28*28[px]), \n",
        "10 to warstwa wyjścia gdzie każdy node odpowada innej cyfsze w granicy 0-9,\n",
        "512 i 256 to warstwy ukryte\n",
        "\n",
        "Oczekiwany kształt to a_x := [(n_x+1, n_x), (n_x+1,)], długość tablicy o jeden\n",
        "mniejsza od długości tablicy warstw reprezentowanej jako %layer_widths.\n",
        "\"\"\"\n",
        "key = jax.random.PRNGKey(seed)\n",
        "MLP_params = init_MLP([784, 512, 256, 10], key)\n",
        "print(jax.tree_map(lambda x: x.shape, MLP_params))"
      ],
      "metadata": {
        "colab": {
          "base_uri": "https://localhost:8080/"
        },
        "id": "DiwCGhe2ICcz",
        "outputId": "d15722e4-172d-4133-8698-e14d1a4629ba"
      },
      "execution_count": 52,
      "outputs": [
        {
          "output_type": "stream",
          "name": "stdout",
          "text": [
            "[[(512, 784), (512,)], [(256, 512), (256,)], [(10, 256), (10,)]]\n"
          ]
        }
      ]
    },
    {
      "cell_type": "code",
      "source": [
        "def MLP_predict(params, x):\n",
        "    hidden_layers = params[:-1]\n",
        "\n",
        "    activation = x\n",
        "    for w, b in hidden_layers:\n",
        "        activation = jax.nn.relu(jnp.dot(w, activation) + b)\n",
        "\n",
        "    w_last, b_last = params[-1]\n",
        "    logits = jnp.dot(w_last, activation) + b_last\n",
        "\n",
        "    \"\"\"\n",
        "    JAX nie posiada implementacji Cross-entropy Loss\n",
        "    \n",
        "    Implementacja log-softmax\n",
        "    log(exp(o1)) - log(sum(exp(o1), exp(o2), ..., exp(o10)))    logits\n",
        "    log( exp(o1) / sum(...) )                                   logsumexp(logits)\n",
        "    \"\"\"\n",
        "    return logits - logsumexp(logits)\n",
        "\n",
        "# Testy\n",
        "\n",
        "# Testy kształtów\n",
        "dummy_img_flat = np.random.randn(np.prod(mnist_img_size))\n",
        "print(dummy_img_flat.shape) #Wymagane 784 (MLP_params)\n",
        "\n",
        "prediction = MLP_predict(MLP_params, dummy_img_flat)\n",
        "print(prediction.shape) #Wynagane 10 (MLP_params)\n",
        "\n",
        "# Test kształtów i poprawnośni funkcji dla wielu wejść (batch processing)\n",
        "batched_MLP_predict = vmap(MLP_predict, in_axes=(None, 0))\n",
        "\n",
        "dummy_imgs_flat = np.random.randn(16, np.prod(mnist_img_size))\n",
        "print(dummy_imgs_flat.shape)\n",
        "predictions = batched_MLP_predict(MLP_params, dummy_imgs_flat)\n",
        "print(predictions.shape)"
      ],
      "metadata": {
        "colab": {
          "base_uri": "https://localhost:8080/"
        },
        "id": "dkSdL5OYIGwo",
        "outputId": "a56bb1c4-8d2f-44c5-9b9c-344f5217e34a"
      },
      "execution_count": 53,
      "outputs": [
        {
          "output_type": "stream",
          "name": "stdout",
          "text": [
            "(784,)\n",
            "(10,)\n",
            "(16, 784)\n",
            "(16, 10)\n"
          ]
        }
      ]
    },
    {
      "cell_type": "code",
      "source": [
        "# Zmiana w 1D np.array.\n",
        "# Własna zdefiniowana funkcja transformacji ze wslględu na użycie JAX a nie TenserFlow czy PyTorch\n",
        "def numpy_and_flatten(x):\n",
        "    return np.ravel(np.array(x, dtype=np.float32))\n",
        "\n",
        "def custom_collate_fn(batch):\n",
        "    transposed_data = list(zip(*batch))\n",
        "\n",
        "    labels = np.array(transposed_data[1])\n",
        "    imgs = np.stack(transposed_data[0])\n",
        "\n",
        "    return imgs, labels\n",
        "\n",
        "train_dataset = MNIST(root='train_mnist', train=True, download=True, transform=numpy_and_flatten)\n",
        "test_dataset = MNIST(root='test_mnist', train=False, download=True, transform=numpy_and_flatten)\n",
        "\n",
        "batch_size = 128\n",
        "train_loader = DataLoader(train_dataset, batch_size, shuffle=True, collate_fn=custom_collate_fn, drop_last=True)\n",
        "test_loader = DataLoader(test_dataset, batch_size, shuffle=False, collate_fn=custom_collate_fn, drop_last=True)\n",
        "\n",
        "# test\n",
        "batch_data = next(iter(train_loader))\n",
        "imgs = batch_data[0]\n",
        "lbls = batch_data[1]\n",
        "print(imgs.shape, imgs[0].dtype, lbls.shape, lbls[0].dtype)\n",
        "\n",
        "# optimization - loading the whole dataset into memory (smal dataset 50-60k images)\n",
        "train_images = jnp.array(train_dataset.data).reshape(len(train_dataset), -1)\n",
        "train_lbls = jnp.array(train_dataset.targets)\n",
        "\n",
        "test_images = jnp.array(test_dataset.data).reshape(len(test_dataset), -1)\n",
        "test_lbls = jnp.array(test_dataset.targets)"
      ],
      "metadata": {
        "colab": {
          "base_uri": "https://localhost:8080/"
        },
        "id": "0tSpZJN9IJf7",
        "outputId": "8ec74198-8a1d-47e6-ad28-db51ff375cfe"
      },
      "execution_count": 54,
      "outputs": [
        {
          "output_type": "stream",
          "name": "stdout",
          "text": [
            "(128, 784) float32 (128,) int64\n"
          ]
        }
      ]
    },
    {
      "cell_type": "code",
      "source": [
        "num_epochs = 5\n",
        "\n",
        "def loss_fn(params, imgs, gt_lbls):\n",
        "    predictions = batched_MLP_predict(params, imgs)\n",
        "\n",
        "    return -jnp.mean(predictions * gt_lbls)\n",
        "\n",
        "def accuracy(params, dataset_imgs, dataset_lbls):\n",
        "    pred_classes = jnp.argmax(batched_MLP_predict(params, dataset_imgs), axis=1)\n",
        "    return jnp.mean(dataset_lbls == pred_classes)\n",
        "\n",
        "@jit\n",
        "def update(params, imgs, gt_lbls, lr=0.01):\n",
        "    loss, grads = value_and_grad(loss_fn)(params, imgs, gt_lbls)\n",
        "\n",
        "    return loss, jax.tree_map(lambda p, g: p - lr*g, params, grads)\n",
        "\n",
        "# Create a MLP\n",
        "MLP_params = init_MLP([np.prod(mnist_img_size), 512, 256, len(MNIST.classes)], key)\n",
        "\n",
        "for epoch in range(num_epochs):\n",
        "\n",
        "    for cnt, (imgs, lbls) in enumerate(train_loader):\n",
        "\n",
        "        gt_labels = jax.nn.one_hot(lbls, len(MNIST.classes))\n",
        "        \n",
        "        loss, MLP_params = update(MLP_params, imgs, gt_labels)\n",
        "        \n",
        "        if cnt % 50 == 0:\n",
        "            print(loss)\n",
        "\n",
        "    print(f'Epoch {epoch}, train acc = {accuracy(MLP_params, train_images, train_lbls)} test acc = {accuracy(MLP_params, test_images, test_lbls)}')\n"
      ],
      "metadata": {
        "colab": {
          "base_uri": "https://localhost:8080/"
        },
        "id": "-m0fT607IP01",
        "outputId": "4495c79a-dc13-487c-adbb-62aba1d915e2"
      },
      "execution_count": 55,
      "outputs": [
        {
          "output_type": "stream",
          "name": "stdout",
          "text": [
            "0.23489156\n",
            "0.092770584\n",
            "0.06370979\n",
            "0.050554466\n",
            "0.04470199\n",
            "0.02863811\n",
            "0.04440702\n",
            "0.033614565\n",
            "0.026201248\n",
            "0.02318023\n",
            "Epoch 0, train acc = 0.916700005531311 test acc = 0.9199000000953674\n",
            "0.02037966\n",
            "0.029082492\n",
            "0.024066329\n",
            "0.027654782\n",
            "0.025059426\n",
            "0.025652489\n",
            "0.03125443\n",
            "0.032713253\n",
            "0.019199202\n",
            "0.016881783\n",
            "Epoch 1, train acc = 0.9345166683197021 test acc = 0.936199963092804\n",
            "0.024983672\n",
            "0.023811528\n",
            "0.030246407\n",
            "0.017450018\n",
            "0.014059285\n",
            "0.013737607\n",
            "0.027218629\n",
            "0.026299948\n",
            "0.025642836\n",
            "0.019032069\n",
            "Epoch 2, train acc = 0.947700023651123 test acc = 0.9453999996185303\n",
            "0.016679479\n",
            "0.0135741895\n",
            "0.0136773465\n",
            "0.0149416\n",
            "0.01767776\n",
            "0.01567529\n",
            "0.015940113\n",
            "0.018217891\n",
            "0.018011862\n",
            "0.012915038\n",
            "Epoch 3, train acc = 0.9544166922569275 test acc = 0.9506999850273132\n",
            "0.016069254\n",
            "0.014223459\n",
            "0.017625183\n",
            "0.013568888\n",
            "0.020354725\n",
            "0.01197791\n",
            "0.021036252\n",
            "0.022936067\n",
            "0.024598205\n",
            "0.009850338\n",
            "Epoch 4, train acc = 0.9596166610717773 test acc = 0.9557999968528748\n"
          ]
        }
      ]
    },
    {
      "cell_type": "code",
      "source": [
        "tl_iter = iter(test_loader)\n",
        "\n",
        "imgs, lbls = next(tl_iter)\n",
        "imgs2, lbls2 = next(tl_iter)\n",
        "\n",
        "fig, axs = plt.subplots(2, 5, figsize=(10, 3))\n",
        "for id in range(5):\n",
        "  axs[0][id].imshow(imgs[id].reshape(mnist_img_size))\n",
        "  axs[0][id].axis('off')\n",
        "  axs[0][id].set_title(f'{id}')\n",
        "\n",
        "for id in range(5, 10):\n",
        "  axs[1][id-5].imshow(imgs[id].reshape(mnist_img_size))\n",
        "  axs[1][id-5].axis('off')\n",
        "  axs[1][id-5].set_title(f'{id}')\n",
        "\n",
        "plt.show()\n",
        "\n",
        "out = \"\"\n",
        "for id, lbl in enumerate(lbls):\n",
        "  out += \"[%s]\\t-\\t%s | \" %(id, lbl)\n",
        "  if((id+1)%8==0): out += '\\n'\n",
        "print(out)"
      ],
      "metadata": {
        "colab": {
          "base_uri": "https://localhost:8080/",
          "height": 505
        },
        "id": "5grjTql7JSJA",
        "outputId": "1af0411d-0857-42c7-b0fe-f5731b651c54"
      },
      "execution_count": 56,
      "outputs": [
        {
          "output_type": "display_data",
          "data": {
            "text/plain": [
              "<Figure size 720x216 with 10 Axes>"
            ],
            "image/png": "[encoded data removed]"
          },
          "metadata": {
            "needs_background": "light"
          }
        },
        {
          "output_type": "stream",
          "name": "stdout",
          "text": [
            "[0]\t-\t7 | [1]\t-\t2 | [2]\t-\t1 | [3]\t-\t0 | [4]\t-\t4 | [5]\t-\t1 | [6]\t-\t4 | [7]\t-\t9 | \n",
            "[8]\t-\t5 | [9]\t-\t9 | [10]\t-\t0 | [11]\t-\t6 | [12]\t-\t9 | [13]\t-\t0 | [14]\t-\t1 | [15]\t-\t5 | \n",
            "[16]\t-\t9 | [17]\t-\t7 | [18]\t-\t3 | [19]\t-\t4 | [20]\t-\t9 | [21]\t-\t6 | [22]\t-\t6 | [23]\t-\t5 | \n",
            "[24]\t-\t4 | [25]\t-\t0 | [26]\t-\t7 | [27]\t-\t4 | [28]\t-\t0 | [29]\t-\t1 | [30]\t-\t3 | [31]\t-\t1 | \n",
            "[32]\t-\t3 | [33]\t-\t4 | [34]\t-\t7 | [35]\t-\t2 | [36]\t-\t7 | [37]\t-\t1 | [38]\t-\t2 | [39]\t-\t1 | \n",
            "[40]\t-\t1 | [41]\t-\t7 | [42]\t-\t4 | [43]\t-\t2 | [44]\t-\t3 | [45]\t-\t5 | [46]\t-\t1 | [47]\t-\t2 | \n",
            "[48]\t-\t4 | [49]\t-\t4 | [50]\t-\t6 | [51]\t-\t3 | [52]\t-\t5 | [53]\t-\t5 | [54]\t-\t6 | [55]\t-\t0 | \n",
            "[56]\t-\t4 | [57]\t-\t1 | [58]\t-\t9 | [59]\t-\t5 | [60]\t-\t7 | [61]\t-\t8 | [62]\t-\t9 | [63]\t-\t3 | \n",
            "[64]\t-\t7 | [65]\t-\t4 | [66]\t-\t6 | [67]\t-\t4 | [68]\t-\t3 | [69]\t-\t0 | [70]\t-\t7 | [71]\t-\t0 | \n",
            "[72]\t-\t2 | [73]\t-\t9 | [74]\t-\t1 | [75]\t-\t7 | [76]\t-\t3 | [77]\t-\t2 | [78]\t-\t9 | [79]\t-\t7 | \n",
            "[80]\t-\t7 | [81]\t-\t6 | [82]\t-\t2 | [83]\t-\t7 | [84]\t-\t8 | [85]\t-\t4 | [86]\t-\t7 | [87]\t-\t3 | \n",
            "[88]\t-\t6 | [89]\t-\t1 | [90]\t-\t3 | [91]\t-\t6 | [92]\t-\t9 | [93]\t-\t3 | [94]\t-\t1 | [95]\t-\t4 | \n",
            "[96]\t-\t1 | [97]\t-\t7 | [98]\t-\t6 | [99]\t-\t9 | [100]\t-\t6 | [101]\t-\t0 | [102]\t-\t5 | [103]\t-\t4 | \n",
            "[104]\t-\t9 | [105]\t-\t9 | [106]\t-\t2 | [107]\t-\t1 | [108]\t-\t9 | [109]\t-\t4 | [110]\t-\t8 | [111]\t-\t7 | \n",
            "[112]\t-\t3 | [113]\t-\t9 | [114]\t-\t7 | [115]\t-\t4 | [116]\t-\t4 | [117]\t-\t4 | [118]\t-\t9 | [119]\t-\t2 | \n",
            "[120]\t-\t5 | [121]\t-\t4 | [122]\t-\t7 | [123]\t-\t6 | [124]\t-\t7 | [125]\t-\t9 | [126]\t-\t0 | [127]\t-\t5 | \n",
            "\n"
          ]
        }
      ]
    },
    {
      "cell_type": "code",
      "source": [
        "img_id = 8\n",
        "imgs, lbls = next(iter(test_loader))\n",
        "img = imgs[img_id].reshape(mnist_img_size)\n",
        "gt_lbl = lbls[img_id]\n",
        "print(img.shape)\n",
        "\n",
        "import matplotlib.pyplot as plt\n",
        "\n",
        "pred = jnp.argmax(MLP_predict(MLP_params, np.ravel(img)))\n",
        "print('pred', pred)\n",
        "print('gt', gt_lbl)\n",
        "\n",
        "plt.imshow(img); plt.show()"
      ],
      "metadata": {
        "colab": {
          "base_uri": "https://localhost:8080/",
          "height": 317
        },
        "id": "mZT3Xa2gISYE",
        "outputId": "ca5bc09f-7a35-49a8-d5f5-310694fba3c4"
      },
      "execution_count": 59,
      "outputs": [
        {
          "output_type": "stream",
          "name": "stdout",
          "text": [
            "(28, 28)\n",
            "pred 6\n",
            "gt 5\n"
          ]
        },
        {
          "output_type": "display_data",
          "data": {
            "text/plain": [
              "<Figure size 432x288 with 1 Axes>"
            ],
            "image/png": "[encoded data removed]"
          },
          "metadata": {
            "needs_background": "light"
          }
        }
      ]
    },
    {
      "cell_type": "code",
      "source": [
        "tl_iter = iter(test_loader)\n",
        "\n",
        "imgs1, lbls1 = next(tl_iter)\n",
        "imgs2, lbls2 = next(tl_iter)\n",
        "imgs3, lbls3 = next(tl_iter)\n",
        "imgs4, lbls4 = next(tl_iter)\n",
        "imgs5, lbls5 = next(tl_iter)\n",
        "\n",
        "all_imgs = [imgs1, imgs2, imgs3, imgs4, imgs5]\n",
        "all_lbls = [lbls1, lbls2, lbls3, lbls4, lbls5]\n",
        "\n",
        "sum = 0\n",
        "bad = []\n",
        "for id, (img, lbl) in enumerate(zip(it.chain(imgs1, imgs2, imgs3, imgs4, imgs5), it.chain(lbls1, lbls2, lbls3, lbls4, lbls5))):\n",
        "  pred = jnp.argmax(MLP_predict(MLP_params, np.ravel(img)))\n",
        "  if pred == lbl:\n",
        "    sum += 1\n",
        "  else:\n",
        "    bad.append([id, pred, lbl])\n",
        "print(sum*100/(len(lbls1) + len(lbls2) + len(lbls3) + len(lbls4) + len(lbls5)))\n",
        "for i, p, l in bad:\n",
        "  print(\"%s\\t|\\t%s\\t|\\t%s\"%(i, p, l))"
      ],
      "metadata": {
        "colab": {
          "base_uri": "https://localhost:8080/"
        },
        "id": "dSrZNeyKWsMJ",
        "outputId": "7e701cb2-5449-4cb4-d772-e2a12cd70474"
      },
      "execution_count": 58,
      "outputs": [
        {
          "output_type": "stream",
          "name": "stdout",
          "text": [
            "95.0\n",
            "8\t|\t6\t|\t5\n",
            "124\t|\t4\t|\t7\n",
            "149\t|\t4\t|\t2\n",
            "151\t|\t8\t|\t9\n",
            "233\t|\t7\t|\t8\n",
            "241\t|\t8\t|\t9\n",
            "245\t|\t5\t|\t3\n",
            "247\t|\t2\t|\t4\n",
            "259\t|\t0\t|\t6\n",
            "300\t|\t6\t|\t4\n",
            "318\t|\t3\t|\t2\n",
            "320\t|\t1\t|\t9\n",
            "321\t|\t7\t|\t2\n",
            "340\t|\t3\t|\t5\n",
            "352\t|\t0\t|\t5\n",
            "386\t|\t5\t|\t6\n",
            "389\t|\t4\t|\t9\n",
            "412\t|\t3\t|\t5\n",
            "445\t|\t0\t|\t6\n",
            "448\t|\t8\t|\t9\n",
            "449\t|\t5\t|\t3\n",
            "479\t|\t8\t|\t9\n",
            "495\t|\t2\t|\t8\n",
            "543\t|\t3\t|\t8\n",
            "551\t|\t1\t|\t7\n",
            "565\t|\t9\t|\t4\n",
            "578\t|\t2\t|\t3\n",
            "582\t|\t2\t|\t8\n",
            "591\t|\t3\t|\t8\n",
            "610\t|\t2\t|\t4\n",
            "619\t|\t8\t|\t1\n",
            "627\t|\t4\t|\t9\n"
          ]
        }
      ]
    },
    {
      "cell_type": "markdown",
      "source": [
        "Trafność przewidywań przez AI:\n",
        "<table>\n",
        "<tr><td>1</td><td>epoch</td><td>=</td><td>92[±1.0]%</td></tr>\n",
        "<tr><td>10</td><td>epoch</td><td>=</td><td>98[±1.0]%</td></tr>\n",
        "<tr><td>50</td><td>epoch</td><td>=</td><td>99[±1.0]%</td></tr>\n",
        "</table>\n",
        "Zauważone: Diminishing returns."
      ],
      "metadata": {
        "id": "94cz-ff7eulJ"
      }
    }
  ]
}